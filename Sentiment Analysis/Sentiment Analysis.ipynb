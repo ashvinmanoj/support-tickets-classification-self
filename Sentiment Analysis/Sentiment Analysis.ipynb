{
 "cells": [
  {
   "cell_type": "code",
   "execution_count": null,
   "metadata": {},
   "outputs": [],
   "source": []
  },
  {
   "cell_type": "code",
   "execution_count": null,
   "metadata": {},
   "outputs": [],
   "source": []
  },
  {
   "cell_type": "code",
   "execution_count": 1,
   "metadata": {},
   "outputs": [
    {
     "name": "stdout",
     "output_type": "stream",
     "text": [
      "Downloading Endava support tickets dataset...\n",
      "all_tickets.csv imported from local computer \n"
     ]
    }
   ],
   "source": [
    "from __future__ import print_function\n",
    "import pandas as pd\n",
    "import os\n",
    "try:\n",
    "    from urllib.request import urlretrieve\n",
    "except ImportError:\n",
    "    from urllib import urlretrieve\n",
    "\n",
    "\n",
    "def download_file(file_url, folder_path, data_folder, file_name):\n",
    "#     file_path = os.path.join(folder_path, data_folder, file_name)\n",
    "    file_path = os.getcwd()+ data_folder+ file_name\n",
    "    if not os.path.exists(file_path):\n",
    "        print('Downloading file from ' + file_url + '...')\n",
    "        urlretrieve(file_url, file_path)\n",
    "        print('Done downloading file: '+file_path)\n",
    "        input_file= pd.read_csv(url)\n",
    "    else:\n",
    "#         print('File: ' + file_path + ' already exists.')\n",
    "        print(file_name + ' imported from local computer ')\n",
    "        input_file= pd.read_csv(os.getcwd()+data_folder + file_name)\n",
    "    return input_file\n",
    "\n",
    "\n",
    "def download_dataset():\n",
    "    print('Downloading Endava support tickets dataset...')\n",
    "    folder_path =   os.getcwd() #os.path.join(         os.path.dirname(             os.path.abspath(__file__)        ),        'datasets'    )\n",
    "    url = \"https://privdatastorage.blob.core.windows.net/github/support-tickets-classification/datasets/all_tickets.csv\"\n",
    "    data_folder = \"\\Input_dataset\\\\\"\n",
    "    file_name = 'all_tickets.csv'\n",
    "    input_data = download_file(url, folder_path, data_folder, file_name)\n",
    "    return input_data\n",
    "\n",
    "\n",
    "if __name__ == \"__main__\":\n",
    "    emails_df= download_dataset()"
   ]
  },
  {
   "cell_type": "code",
   "execution_count": 2,
   "metadata": {},
   "outputs": [
    {
     "data": {
      "text/html": [
       "<div>\n",
       "<style scoped>\n",
       "    .dataframe tbody tr th:only-of-type {\n",
       "        vertical-align: middle;\n",
       "    }\n",
       "\n",
       "    .dataframe tbody tr th {\n",
       "        vertical-align: top;\n",
       "    }\n",
       "\n",
       "    .dataframe thead th {\n",
       "        text-align: right;\n",
       "    }\n",
       "</style>\n",
       "<table border=\"1\" class=\"dataframe\">\n",
       "  <thead>\n",
       "    <tr style=\"text-align: right;\">\n",
       "      <th></th>\n",
       "      <th>title</th>\n",
       "      <th>body</th>\n",
       "      <th>ticket_type</th>\n",
       "      <th>category</th>\n",
       "      <th>sub_category1</th>\n",
       "      <th>sub_category2</th>\n",
       "      <th>business_service</th>\n",
       "      <th>urgency</th>\n",
       "      <th>impact</th>\n",
       "    </tr>\n",
       "  </thead>\n",
       "  <tbody>\n",
       "    <tr>\n",
       "      <th>1</th>\n",
       "      <td>connection with icon</td>\n",
       "      <td>icon dear please setup icon per icon engineers...</td>\n",
       "      <td>1</td>\n",
       "      <td>6</td>\n",
       "      <td>22</td>\n",
       "      <td>7</td>\n",
       "      <td>26</td>\n",
       "      <td>3</td>\n",
       "      <td>4</td>\n",
       "    </tr>\n",
       "    <tr>\n",
       "      <th>2</th>\n",
       "      <td>work experience user</td>\n",
       "      <td>work experience user hi work experience studen...</td>\n",
       "      <td>1</td>\n",
       "      <td>5</td>\n",
       "      <td>13</td>\n",
       "      <td>7</td>\n",
       "      <td>32</td>\n",
       "      <td>3</td>\n",
       "      <td>4</td>\n",
       "    </tr>\n",
       "    <tr>\n",
       "      <th>3</th>\n",
       "      <td>requesting for meeting</td>\n",
       "      <td>requesting meeting hi please help follow equip...</td>\n",
       "      <td>1</td>\n",
       "      <td>5</td>\n",
       "      <td>13</td>\n",
       "      <td>7</td>\n",
       "      <td>32</td>\n",
       "      <td>3</td>\n",
       "      <td>4</td>\n",
       "    </tr>\n",
       "    <tr>\n",
       "      <th>4</th>\n",
       "      <td>reset passwords for external accounts</td>\n",
       "      <td>re expire days hi ask help update passwords co...</td>\n",
       "      <td>1</td>\n",
       "      <td>4</td>\n",
       "      <td>2</td>\n",
       "      <td>76</td>\n",
       "      <td>4</td>\n",
       "      <td>3</td>\n",
       "      <td>4</td>\n",
       "    </tr>\n",
       "    <tr>\n",
       "      <th>5</th>\n",
       "      <td>mail</td>\n",
       "      <td>verification warning hi has got attached pleas...</td>\n",
       "      <td>1</td>\n",
       "      <td>4</td>\n",
       "      <td>3</td>\n",
       "      <td>7</td>\n",
       "      <td>89</td>\n",
       "      <td>3</td>\n",
       "      <td>4</td>\n",
       "    </tr>\n",
       "  </tbody>\n",
       "</table>\n",
       "</div>"
      ],
      "text/plain": [
       "                                   title  \\\n",
       "1                   connection with icon   \n",
       "2                   work experience user   \n",
       "3                 requesting for meeting   \n",
       "4  reset passwords for external accounts   \n",
       "5                                   mail   \n",
       "\n",
       "                                                body  ticket_type  category  \\\n",
       "1  icon dear please setup icon per icon engineers...            1         6   \n",
       "2  work experience user hi work experience studen...            1         5   \n",
       "3  requesting meeting hi please help follow equip...            1         5   \n",
       "4  re expire days hi ask help update passwords co...            1         4   \n",
       "5  verification warning hi has got attached pleas...            1         4   \n",
       "\n",
       "   sub_category1  sub_category2  business_service  urgency  impact  \n",
       "1             22              7                26        3       4  \n",
       "2             13              7                32        3       4  \n",
       "3             13              7                32        3       4  \n",
       "4              2             76                 4        3       4  \n",
       "5              3              7                89        3       4  "
      ]
     },
     "execution_count": 2,
     "metadata": {},
     "output_type": "execute_result"
    }
   ],
   "source": [
    "emails_df = emails_df[emails_df['title'].notna()]\n",
    "emails_df.head()"
   ]
  },
  {
   "cell_type": "markdown",
   "metadata": {},
   "source": [
    "# Sentiment Analysis"
   ]
  },
  {
   "cell_type": "code",
   "execution_count": 3,
   "metadata": {},
   "outputs": [],
   "source": [
    "from vaderSentiment.vaderSentiment import SentimentIntensityAnalyzer\n",
    "analyser = SentimentIntensityAnalyzer()"
   ]
  },
  {
   "cell_type": "code",
   "execution_count": 4,
   "metadata": {},
   "outputs": [],
   "source": [
    "def sentiment_analyzer_scores(sentence):\n",
    "    score = analyser.polarity_scores(sentence)\n",
    "#     result = \"{:-<40} {}\".format(sentence, str(score))\n",
    "#     print(result)\n",
    "#     return result\n",
    "    return score"
   ]
  },
  {
   "cell_type": "code",
   "execution_count": 5,
   "metadata": {},
   "outputs": [
    {
     "data": {
      "text/plain": [
       "{'neg': 0.538, 'neu': 0.462, 'pos': 0.0, 'compound': -0.5423}"
      ]
     },
     "execution_count": 5,
     "metadata": {},
     "output_type": "execute_result"
    }
   ],
   "source": [
    "result1 = sentiment_analyzer_scores(\"The music is bad. But the story is good.\")\n",
    "result1 = sentiment_analyzer_scores(\"The music is bad.\")\n",
    "# result1 = sentiment_analyzer_scores(\"The food here is great, but the service is horrible\")\n",
    "result1"
   ]
  },
  {
   "cell_type": "code",
   "execution_count": 6,
   "metadata": {},
   "outputs": [],
   "source": [
    "from textblob import TextBlob"
   ]
  },
  {
   "cell_type": "code",
   "execution_count": 35,
   "metadata": {},
   "outputs": [
    {
     "name": "stdout",
     "output_type": "stream",
     "text": [
      "confluence hello please help create user confluence possible kind regards discipline lead. \n",
      "  {'neg': 0.0, 'neu': 0.432, 'pos': 0.568, 'compound': 0.8591}\n",
      "confluence hello please help create user confluence possible not happy kind regards discipline lead. \n",
      "  {'neg': 0.264, 'neu': 0.411, 'pos': 0.325, 'compound': 0.0839}\n"
     ]
    }
   ],
   "source": [
    "testimonial =  sentiment_analyzer_scores(\"hello, please send correct version not happy kind regards lead.\")\n",
    "\n",
    "testimonial = sentiment_analyzer_scores(\"confluence hello please help create user confluence possible kind regards discipline lead.\")\n",
    "print(\"confluence hello please help create user confluence possible kind regards discipline lead.\" , \"\\n \", testimonial)\n",
    "\n",
    "testimonial = sentiment_analyzer_scores(\"confluence hello please help create user confluence possible not happy kind regards discipline lead.\")\n",
    "print(\"confluence hello please help create user confluence possible not happy kind regards discipline lead.\" , \"\\n \",  testimonial)\n",
    "\n",
    "# testimonial = sentiment_analyzer_scores(\"confluence hello please help create user confluence possible mistake kind regards discipline lead.\")\n",
    "# print(\"confluence hello please help create user confluence possible not happy kind regards discipline lead.\" , \"\\n \",  testimonial)"
   ]
  },
  {
   "cell_type": "code",
   "execution_count": 8,
   "metadata": {},
   "outputs": [
    {
     "name": "stdout",
     "output_type": "stream",
     "text": [
      "hello invoice mistake  \n",
      "  {'neg': 0.545, 'neu': 0.455, 'pos': 0.0, 'compound': -0.34}\n",
      "Story excellent but script  bad \n",
      "  {'neg': 0.264, 'neu': 0.411, 'pos': 0.325, 'compound': 0.0839}\n",
      "The music is bad. But the story is good. \n",
      "  {'neg': 0.115, 'neu': 0.383, 'pos': 0.502, 'compound': 0.7964}\n"
     ]
    }
   ],
   "source": [
    "text111= \"hello invoice mistake \"\n",
    "testimonial =  sentiment_analyzer_scores(text111)\n",
    "print(text111, \"\\n \", testimonial)\n",
    "\n",
    "text111= \"Story excellent but script  bad\"\n",
    "testimonial = sentiment_analyzer_scores(\"confluence hello please help create user confluence possible not happy kind regards discipline lead.\")\n",
    "print(text111, \"\\n \",  testimonial)\n",
    "\n",
    "text111= \"The music is bad. But the story is good.\"\n",
    "testimonial = sentiment_analyzer_scores(\"confluence hello please help create user confluence possible mistake kind regards discipline lead.\")\n",
    "print(text111, \"\\n \",  testimonial)"
   ]
  },
  {
   "cell_type": "code",
   "execution_count": 9,
   "metadata": {},
   "outputs": [
    {
     "data": {
      "text/plain": [
       "'confluence hello please help create user confluence possible kind regards discipline lead'"
      ]
     },
     "execution_count": 9,
     "metadata": {},
     "output_type": "execute_result"
    }
   ],
   "source": [
    "emails_df.iloc[478,1]"
   ]
  },
  {
   "cell_type": "code",
   "execution_count": 10,
   "metadata": {},
   "outputs": [
    {
     "data": {
      "text/plain": [
       "'requesting meeting hi please help follow equipments cable pc cord plug'"
      ]
     },
     "execution_count": 10,
     "metadata": {},
     "output_type": "execute_result"
    }
   ],
   "source": [
    "emails_df.iloc[2,1]"
   ]
  },
  {
   "cell_type": "code",
   "execution_count": 11,
   "metadata": {},
   "outputs": [],
   "source": [
    "def Sentiment_TextBlob(sentense):\n",
    "    testimonial =  TextBlob(sentense)\n",
    "    return testimonial.sentiment.polarity"
   ]
  },
  {
   "cell_type": "code",
   "execution_count": 12,
   "metadata": {},
   "outputs": [],
   "source": [
    "# import re\n",
    "# import json\n",
    "# m = re.search('{(.+?)}', result1)\n",
    "# if m:\n",
    "#     found = m.group(0)\n",
    "       \n",
    "#     json_acceptable_string = found.replace(\"'\", \"\\\"\")\n",
    "#     d = json.loads(json_acceptable_string)\n",
    "\n",
    "#     print((d))"
   ]
  },
  {
   "cell_type": "code",
   "execution_count": 13,
   "metadata": {},
   "outputs": [],
   "source": [
    "emails_df['Sentiment'] = emails_df['body'].map(sentiment_analyzer_scores)"
   ]
  },
  {
   "cell_type": "code",
   "execution_count": 14,
   "metadata": {},
   "outputs": [
    {
     "data": {
      "text/html": [
       "<div>\n",
       "<style scoped>\n",
       "    .dataframe tbody tr th:only-of-type {\n",
       "        vertical-align: middle;\n",
       "    }\n",
       "\n",
       "    .dataframe tbody tr th {\n",
       "        vertical-align: top;\n",
       "    }\n",
       "\n",
       "    .dataframe thead th {\n",
       "        text-align: right;\n",
       "    }\n",
       "</style>\n",
       "<table border=\"1\" class=\"dataframe\">\n",
       "  <thead>\n",
       "    <tr style=\"text-align: right;\">\n",
       "      <th></th>\n",
       "      <th>title</th>\n",
       "      <th>body</th>\n",
       "      <th>ticket_type</th>\n",
       "      <th>category</th>\n",
       "      <th>sub_category1</th>\n",
       "      <th>sub_category2</th>\n",
       "      <th>business_service</th>\n",
       "      <th>urgency</th>\n",
       "      <th>impact</th>\n",
       "      <th>neg</th>\n",
       "      <th>neu</th>\n",
       "      <th>pos</th>\n",
       "      <th>compound</th>\n",
       "    </tr>\n",
       "  </thead>\n",
       "  <tbody>\n",
       "    <tr>\n",
       "      <th>1</th>\n",
       "      <td>connection with icon</td>\n",
       "      <td>icon dear please setup icon per icon engineers...</td>\n",
       "      <td>1</td>\n",
       "      <td>6</td>\n",
       "      <td>22</td>\n",
       "      <td>7</td>\n",
       "      <td>26</td>\n",
       "      <td>3</td>\n",
       "      <td>4</td>\n",
       "      <td>0.000</td>\n",
       "      <td>0.521</td>\n",
       "      <td>0.479</td>\n",
       "      <td>0.8442</td>\n",
       "    </tr>\n",
       "    <tr>\n",
       "      <th>2</th>\n",
       "      <td>work experience user</td>\n",
       "      <td>work experience user hi work experience studen...</td>\n",
       "      <td>1</td>\n",
       "      <td>5</td>\n",
       "      <td>13</td>\n",
       "      <td>7</td>\n",
       "      <td>32</td>\n",
       "      <td>3</td>\n",
       "      <td>4</td>\n",
       "      <td>0.000</td>\n",
       "      <td>0.729</td>\n",
       "      <td>0.271</td>\n",
       "      <td>0.6369</td>\n",
       "    </tr>\n",
       "    <tr>\n",
       "      <th>3</th>\n",
       "      <td>requesting for meeting</td>\n",
       "      <td>requesting meeting hi please help follow equip...</td>\n",
       "      <td>1</td>\n",
       "      <td>5</td>\n",
       "      <td>13</td>\n",
       "      <td>7</td>\n",
       "      <td>32</td>\n",
       "      <td>3</td>\n",
       "      <td>4</td>\n",
       "      <td>0.000</td>\n",
       "      <td>0.643</td>\n",
       "      <td>0.357</td>\n",
       "      <td>0.6124</td>\n",
       "    </tr>\n",
       "    <tr>\n",
       "      <th>4</th>\n",
       "      <td>reset passwords for external accounts</td>\n",
       "      <td>re expire days hi ask help update passwords co...</td>\n",
       "      <td>1</td>\n",
       "      <td>4</td>\n",
       "      <td>2</td>\n",
       "      <td>76</td>\n",
       "      <td>4</td>\n",
       "      <td>3</td>\n",
       "      <td>4</td>\n",
       "      <td>0.013</td>\n",
       "      <td>0.741</td>\n",
       "      <td>0.246</td>\n",
       "      <td>0.9869</td>\n",
       "    </tr>\n",
       "    <tr>\n",
       "      <th>5</th>\n",
       "      <td>mail</td>\n",
       "      <td>verification warning hi has got attached pleas...</td>\n",
       "      <td>1</td>\n",
       "      <td>4</td>\n",
       "      <td>3</td>\n",
       "      <td>7</td>\n",
       "      <td>89</td>\n",
       "      <td>3</td>\n",
       "      <td>4</td>\n",
       "      <td>0.225</td>\n",
       "      <td>0.469</td>\n",
       "      <td>0.305</td>\n",
       "      <td>0.4019</td>\n",
       "    </tr>\n",
       "  </tbody>\n",
       "</table>\n",
       "</div>"
      ],
      "text/plain": [
       "                                   title  \\\n",
       "1                   connection with icon   \n",
       "2                   work experience user   \n",
       "3                 requesting for meeting   \n",
       "4  reset passwords for external accounts   \n",
       "5                                   mail   \n",
       "\n",
       "                                                body  ticket_type  category  \\\n",
       "1  icon dear please setup icon per icon engineers...            1         6   \n",
       "2  work experience user hi work experience studen...            1         5   \n",
       "3  requesting meeting hi please help follow equip...            1         5   \n",
       "4  re expire days hi ask help update passwords co...            1         4   \n",
       "5  verification warning hi has got attached pleas...            1         4   \n",
       "\n",
       "   sub_category1  sub_category2  business_service  urgency  impact    neg  \\\n",
       "1             22              7                26        3       4  0.000   \n",
       "2             13              7                32        3       4  0.000   \n",
       "3             13              7                32        3       4  0.000   \n",
       "4              2             76                 4        3       4  0.013   \n",
       "5              3              7                89        3       4  0.225   \n",
       "\n",
       "     neu    pos  compound  \n",
       "1  0.521  0.479    0.8442  \n",
       "2  0.729  0.271    0.6369  \n",
       "3  0.643  0.357    0.6124  \n",
       "4  0.741  0.246    0.9869  \n",
       "5  0.469  0.305    0.4019  "
      ]
     },
     "execution_count": 14,
     "metadata": {},
     "output_type": "execute_result"
    }
   ],
   "source": [
    "Sentiment_result= emails_df['Sentiment'].apply(pd.Series)\n",
    "del emails_df['Sentiment']\n",
    "emails_df= pd.concat([emails_df,pd.DataFrame(Sentiment_result)], axis=1)\n",
    "emails_df.head()"
   ]
  },
  {
   "cell_type": "code",
   "execution_count": 15,
   "metadata": {},
   "outputs": [],
   "source": [
    "emails_df['Positive'] = 0\n",
    "emails_df['Negative'] = 0\n",
    "emails_df['Neutral'] = 0"
   ]
  },
  {
   "cell_type": "code",
   "execution_count": 16,
   "metadata": {},
   "outputs": [],
   "source": [
    "# if (emails_df[emails_df['compound'] >=0.5] ):\n",
    "#     emails_df['Positive'] =1\n",
    "# elif (emails_df[emails_df['compound']<=-0.5]):\n",
    "#     emails_df['Negative'] = 1\n",
    "# elif ((emails_df[emails_df['compound'] > -0.5]) & (emails_df[emails_df['compound'] < 0.5])):\n",
    "#     emails_df['Neutral'] =1\n",
    "    \n",
    "    \n",
    "emails_df.loc[emails_df['compound'] >= 0.5, ['Positive']] = 1\n",
    "emails_df.loc[emails_df['compound'] <= -0.5, ['Negative']] = 1\n",
    "emails_df.loc[ (emails_df['compound'] > -0.5)  & (emails_df['compound'] < 0.5), ['Neutral']] = 1\n"
   ]
  },
  {
   "cell_type": "code",
   "execution_count": 17,
   "metadata": {},
   "outputs": [
    {
     "data": {
      "text/html": [
       "<div>\n",
       "<style scoped>\n",
       "    .dataframe tbody tr th:only-of-type {\n",
       "        vertical-align: middle;\n",
       "    }\n",
       "\n",
       "    .dataframe tbody tr th {\n",
       "        vertical-align: top;\n",
       "    }\n",
       "\n",
       "    .dataframe thead th {\n",
       "        text-align: right;\n",
       "    }\n",
       "</style>\n",
       "<table border=\"1\" class=\"dataframe\">\n",
       "  <thead>\n",
       "    <tr style=\"text-align: right;\">\n",
       "      <th></th>\n",
       "      <th>title</th>\n",
       "      <th>body</th>\n",
       "      <th>ticket_type</th>\n",
       "      <th>category</th>\n",
       "      <th>sub_category1</th>\n",
       "      <th>sub_category2</th>\n",
       "      <th>business_service</th>\n",
       "      <th>urgency</th>\n",
       "      <th>impact</th>\n",
       "      <th>neg</th>\n",
       "      <th>neu</th>\n",
       "      <th>pos</th>\n",
       "      <th>compound</th>\n",
       "      <th>Positive</th>\n",
       "      <th>Negative</th>\n",
       "      <th>Neutral</th>\n",
       "    </tr>\n",
       "  </thead>\n",
       "  <tbody>\n",
       "    <tr>\n",
       "      <th>48544</th>\n",
       "      <td>git space for a project issues with adding users</td>\n",
       "      <td>sent tuesday july re git space for hi got righ...</td>\n",
       "      <td>0</td>\n",
       "      <td>4</td>\n",
       "      <td>21</td>\n",
       "      <td>1</td>\n",
       "      <td>39</td>\n",
       "      <td>1</td>\n",
       "      <td>3</td>\n",
       "      <td>0.020</td>\n",
       "      <td>0.750</td>\n",
       "      <td>0.230</td>\n",
       "      <td>0.9893</td>\n",
       "      <td>1</td>\n",
       "      <td>0</td>\n",
       "      <td>0</td>\n",
       "    </tr>\n",
       "    <tr>\n",
       "      <th>48545</th>\n",
       "      <td>error</td>\n",
       "      <td>sent july error hi guys can you help out with ...</td>\n",
       "      <td>0</td>\n",
       "      <td>4</td>\n",
       "      <td>9</td>\n",
       "      <td>41</td>\n",
       "      <td>10</td>\n",
       "      <td>2</td>\n",
       "      <td>3</td>\n",
       "      <td>0.178</td>\n",
       "      <td>0.493</td>\n",
       "      <td>0.329</td>\n",
       "      <td>0.5574</td>\n",
       "      <td>1</td>\n",
       "      <td>0</td>\n",
       "      <td>0</td>\n",
       "    </tr>\n",
       "    <tr>\n",
       "      <th>48546</th>\n",
       "      <td>connection issues</td>\n",
       "      <td>sent tuesday july connection issues hello have...</td>\n",
       "      <td>0</td>\n",
       "      <td>5</td>\n",
       "      <td>32</td>\n",
       "      <td>0</td>\n",
       "      <td>32</td>\n",
       "      <td>2</td>\n",
       "      <td>3</td>\n",
       "      <td>0.082</td>\n",
       "      <td>0.793</td>\n",
       "      <td>0.125</td>\n",
       "      <td>0.4215</td>\n",
       "      <td>0</td>\n",
       "      <td>0</td>\n",
       "      <td>1</td>\n",
       "    </tr>\n",
       "    <tr>\n",
       "      <th>48547</th>\n",
       "      <td>error cube reports</td>\n",
       "      <td>sent tuesday july error hello guys have receiv...</td>\n",
       "      <td>0</td>\n",
       "      <td>4</td>\n",
       "      <td>21</td>\n",
       "      <td>41</td>\n",
       "      <td>35</td>\n",
       "      <td>1</td>\n",
       "      <td>3</td>\n",
       "      <td>0.087</td>\n",
       "      <td>0.787</td>\n",
       "      <td>0.127</td>\n",
       "      <td>0.3612</td>\n",
       "      <td>0</td>\n",
       "      <td>0</td>\n",
       "      <td>1</td>\n",
       "    </tr>\n",
       "    <tr>\n",
       "      <th>48548</th>\n",
       "      <td>running out on extensions</td>\n",
       "      <td>hello please be advised we running out extensi...</td>\n",
       "      <td>0</td>\n",
       "      <td>4</td>\n",
       "      <td>51</td>\n",
       "      <td>98</td>\n",
       "      <td>96</td>\n",
       "      <td>2</td>\n",
       "      <td>3</td>\n",
       "      <td>0.000</td>\n",
       "      <td>0.750</td>\n",
       "      <td>0.250</td>\n",
       "      <td>0.9231</td>\n",
       "      <td>1</td>\n",
       "      <td>0</td>\n",
       "      <td>0</td>\n",
       "    </tr>\n",
       "  </tbody>\n",
       "</table>\n",
       "</div>"
      ],
      "text/plain": [
       "                                                  title  \\\n",
       "48544  git space for a project issues with adding users   \n",
       "48545                                             error   \n",
       "48546                                 connection issues   \n",
       "48547                                error cube reports   \n",
       "48548                         running out on extensions   \n",
       "\n",
       "                                                    body  ticket_type  \\\n",
       "48544  sent tuesday july re git space for hi got righ...            0   \n",
       "48545  sent july error hi guys can you help out with ...            0   \n",
       "48546  sent tuesday july connection issues hello have...            0   \n",
       "48547  sent tuesday july error hello guys have receiv...            0   \n",
       "48548  hello please be advised we running out extensi...            0   \n",
       "\n",
       "       category  sub_category1  sub_category2  business_service  urgency  \\\n",
       "48544         4             21              1                39        1   \n",
       "48545         4              9             41                10        2   \n",
       "48546         5             32              0                32        2   \n",
       "48547         4             21             41                35        1   \n",
       "48548         4             51             98                96        2   \n",
       "\n",
       "       impact    neg    neu    pos  compound  Positive  Negative  Neutral  \n",
       "48544       3  0.020  0.750  0.230    0.9893         1         0        0  \n",
       "48545       3  0.178  0.493  0.329    0.5574         1         0        0  \n",
       "48546       3  0.082  0.793  0.125    0.4215         0         0        1  \n",
       "48547       3  0.087  0.787  0.127    0.3612         0         0        1  \n",
       "48548       3  0.000  0.750  0.250    0.9231         1         0        0  "
      ]
     },
     "execution_count": 17,
     "metadata": {},
     "output_type": "execute_result"
    }
   ],
   "source": [
    "emails_df.tail(5)"
   ]
  },
  {
   "cell_type": "code",
   "execution_count": 18,
   "metadata": {},
   "outputs": [
    {
     "data": {
      "text/html": [
       "<div>\n",
       "<style scoped>\n",
       "    .dataframe tbody tr th:only-of-type {\n",
       "        vertical-align: middle;\n",
       "    }\n",
       "\n",
       "    .dataframe tbody tr th {\n",
       "        vertical-align: top;\n",
       "    }\n",
       "\n",
       "    .dataframe thead th {\n",
       "        text-align: right;\n",
       "    }\n",
       "</style>\n",
       "<table border=\"1\" class=\"dataframe\">\n",
       "  <thead>\n",
       "    <tr style=\"text-align: right;\">\n",
       "      <th></th>\n",
       "      <th>title</th>\n",
       "      <th>body</th>\n",
       "      <th>ticket_type</th>\n",
       "      <th>category</th>\n",
       "      <th>sub_category1</th>\n",
       "      <th>sub_category2</th>\n",
       "      <th>business_service</th>\n",
       "      <th>urgency</th>\n",
       "      <th>impact</th>\n",
       "      <th>neg</th>\n",
       "      <th>neu</th>\n",
       "      <th>pos</th>\n",
       "      <th>compound</th>\n",
       "      <th>Positive</th>\n",
       "      <th>Negative</th>\n",
       "      <th>Neutral</th>\n",
       "    </tr>\n",
       "  </thead>\n",
       "  <tbody>\n",
       "    <tr>\n",
       "      <th>47528</th>\n",
       "      <td>issue urgent</td>\n",
       "      <td>sent thursday october ..., bitten die die</td>\n",
       "      <td>0</td>\n",
       "      <td>4</td>\n",
       "      <td>21</td>\n",
       "      <td>1</td>\n",
       "      <td>95</td>\n",
       "      <td>2</td>\n",
       "      <td>3</td>\n",
       "      <td>0.609</td>\n",
       "      <td>0.391</td>\n",
       "      <td>0.0</td>\n",
       "      <td>-0.8316</td>\n",
       "      <td>0</td>\n",
       "      <td>1</td>\n",
       "      <td>0</td>\n",
       "    </tr>\n",
       "    <tr>\n",
       "      <th>47844</th>\n",
       "      <td>problem system starting</td>\n",
       "      <td>problem when starting</td>\n",
       "      <td>0</td>\n",
       "      <td>4</td>\n",
       "      <td>21</td>\n",
       "      <td>41</td>\n",
       "      <td>32</td>\n",
       "      <td>2</td>\n",
       "      <td>3</td>\n",
       "      <td>0.574</td>\n",
       "      <td>0.426</td>\n",
       "      <td>0.0</td>\n",
       "      <td>-0.4019</td>\n",
       "      <td>0</td>\n",
       "      <td>0</td>\n",
       "      <td>1</td>\n",
       "    </tr>\n",
       "  </tbody>\n",
       "</table>\n",
       "</div>"
      ],
      "text/plain": [
       "                         title                                       body  \\\n",
       "47528             issue urgent  sent thursday october ..., bitten die die   \n",
       "47844  problem system starting                      problem when starting   \n",
       "\n",
       "       ticket_type  category  sub_category1  sub_category2  business_service  \\\n",
       "47528            0         4             21              1                95   \n",
       "47844            0         4             21             41                32   \n",
       "\n",
       "       urgency  impact    neg    neu  pos  compound  Positive  Negative  \\\n",
       "47528        2       3  0.609  0.391  0.0   -0.8316         0         1   \n",
       "47844        2       3  0.574  0.426  0.0   -0.4019         0         0   \n",
       "\n",
       "       Neutral  \n",
       "47528        0  \n",
       "47844        1  "
      ]
     },
     "execution_count": 18,
     "metadata": {},
     "output_type": "execute_result"
    }
   ],
   "source": [
    "(emails_df[emails_df['neg'] > 0.5 ]).tail(2)"
   ]
  },
  {
   "cell_type": "code",
   "execution_count": 19,
   "metadata": {},
   "outputs": [],
   "source": [
    "def Sentiment_TextBlob(sentense):\n",
    "    testimonial =  TextBlob(sentense)\n",
    "    return testimonial.sentiment.polarity"
   ]
  },
  {
   "cell_type": "code",
   "execution_count": 20,
   "metadata": {},
   "outputs": [
    {
     "data": {
      "text/html": [
       "<div>\n",
       "<style scoped>\n",
       "    .dataframe tbody tr th:only-of-type {\n",
       "        vertical-align: middle;\n",
       "    }\n",
       "\n",
       "    .dataframe tbody tr th {\n",
       "        vertical-align: top;\n",
       "    }\n",
       "\n",
       "    .dataframe thead th {\n",
       "        text-align: right;\n",
       "    }\n",
       "</style>\n",
       "<table border=\"1\" class=\"dataframe\">\n",
       "  <thead>\n",
       "    <tr style=\"text-align: right;\">\n",
       "      <th></th>\n",
       "      <th>title</th>\n",
       "      <th>body</th>\n",
       "      <th>ticket_type</th>\n",
       "      <th>category</th>\n",
       "      <th>sub_category1</th>\n",
       "      <th>sub_category2</th>\n",
       "      <th>business_service</th>\n",
       "      <th>urgency</th>\n",
       "      <th>impact</th>\n",
       "      <th>neg</th>\n",
       "      <th>neu</th>\n",
       "      <th>pos</th>\n",
       "      <th>compound</th>\n",
       "      <th>Positive</th>\n",
       "      <th>Negative</th>\n",
       "      <th>Neutral</th>\n",
       "      <th>Polarity</th>\n",
       "    </tr>\n",
       "  </thead>\n",
       "  <tbody>\n",
       "    <tr>\n",
       "      <th>1</th>\n",
       "      <td>connection with icon</td>\n",
       "      <td>icon dear please setup icon per icon engineers...</td>\n",
       "      <td>1</td>\n",
       "      <td>6</td>\n",
       "      <td>22</td>\n",
       "      <td>7</td>\n",
       "      <td>26</td>\n",
       "      <td>3</td>\n",
       "      <td>4</td>\n",
       "      <td>0.000</td>\n",
       "      <td>0.521</td>\n",
       "      <td>0.479</td>\n",
       "      <td>0.8442</td>\n",
       "      <td>1</td>\n",
       "      <td>0</td>\n",
       "      <td>0</td>\n",
       "      <td>0.037500</td>\n",
       "    </tr>\n",
       "    <tr>\n",
       "      <th>2</th>\n",
       "      <td>work experience user</td>\n",
       "      <td>work experience user hi work experience studen...</td>\n",
       "      <td>1</td>\n",
       "      <td>5</td>\n",
       "      <td>13</td>\n",
       "      <td>7</td>\n",
       "      <td>32</td>\n",
       "      <td>3</td>\n",
       "      <td>4</td>\n",
       "      <td>0.000</td>\n",
       "      <td>0.729</td>\n",
       "      <td>0.271</td>\n",
       "      <td>0.6369</td>\n",
       "      <td>1</td>\n",
       "      <td>0</td>\n",
       "      <td>0</td>\n",
       "      <td>0.100000</td>\n",
       "    </tr>\n",
       "    <tr>\n",
       "      <th>3</th>\n",
       "      <td>requesting for meeting</td>\n",
       "      <td>requesting meeting hi please help follow equip...</td>\n",
       "      <td>1</td>\n",
       "      <td>5</td>\n",
       "      <td>13</td>\n",
       "      <td>7</td>\n",
       "      <td>32</td>\n",
       "      <td>3</td>\n",
       "      <td>4</td>\n",
       "      <td>0.000</td>\n",
       "      <td>0.643</td>\n",
       "      <td>0.357</td>\n",
       "      <td>0.6124</td>\n",
       "      <td>1</td>\n",
       "      <td>0</td>\n",
       "      <td>0</td>\n",
       "      <td>0.000000</td>\n",
       "    </tr>\n",
       "    <tr>\n",
       "      <th>4</th>\n",
       "      <td>reset passwords for external accounts</td>\n",
       "      <td>re expire days hi ask help update passwords co...</td>\n",
       "      <td>1</td>\n",
       "      <td>4</td>\n",
       "      <td>2</td>\n",
       "      <td>76</td>\n",
       "      <td>4</td>\n",
       "      <td>3</td>\n",
       "      <td>4</td>\n",
       "      <td>0.013</td>\n",
       "      <td>0.741</td>\n",
       "      <td>0.246</td>\n",
       "      <td>0.9869</td>\n",
       "      <td>1</td>\n",
       "      <td>0</td>\n",
       "      <td>0</td>\n",
       "      <td>0.215513</td>\n",
       "    </tr>\n",
       "    <tr>\n",
       "      <th>5</th>\n",
       "      <td>mail</td>\n",
       "      <td>verification warning hi has got attached pleas...</td>\n",
       "      <td>1</td>\n",
       "      <td>4</td>\n",
       "      <td>3</td>\n",
       "      <td>7</td>\n",
       "      <td>89</td>\n",
       "      <td>3</td>\n",
       "      <td>4</td>\n",
       "      <td>0.225</td>\n",
       "      <td>0.469</td>\n",
       "      <td>0.305</td>\n",
       "      <td>0.4019</td>\n",
       "      <td>0</td>\n",
       "      <td>0</td>\n",
       "      <td>1</td>\n",
       "      <td>1.000000</td>\n",
       "    </tr>\n",
       "  </tbody>\n",
       "</table>\n",
       "</div>"
      ],
      "text/plain": [
       "                                   title  \\\n",
       "1                   connection with icon   \n",
       "2                   work experience user   \n",
       "3                 requesting for meeting   \n",
       "4  reset passwords for external accounts   \n",
       "5                                   mail   \n",
       "\n",
       "                                                body  ticket_type  category  \\\n",
       "1  icon dear please setup icon per icon engineers...            1         6   \n",
       "2  work experience user hi work experience studen...            1         5   \n",
       "3  requesting meeting hi please help follow equip...            1         5   \n",
       "4  re expire days hi ask help update passwords co...            1         4   \n",
       "5  verification warning hi has got attached pleas...            1         4   \n",
       "\n",
       "   sub_category1  sub_category2  business_service  urgency  impact    neg  \\\n",
       "1             22              7                26        3       4  0.000   \n",
       "2             13              7                32        3       4  0.000   \n",
       "3             13              7                32        3       4  0.000   \n",
       "4              2             76                 4        3       4  0.013   \n",
       "5              3              7                89        3       4  0.225   \n",
       "\n",
       "     neu    pos  compound  Positive  Negative  Neutral  Polarity  \n",
       "1  0.521  0.479    0.8442         1         0        0  0.037500  \n",
       "2  0.729  0.271    0.6369         1         0        0  0.100000  \n",
       "3  0.643  0.357    0.6124         1         0        0  0.000000  \n",
       "4  0.741  0.246    0.9869         1         0        0  0.215513  \n",
       "5  0.469  0.305    0.4019         0         0        1  1.000000  "
      ]
     },
     "execution_count": 20,
     "metadata": {},
     "output_type": "execute_result"
    }
   ],
   "source": [
    "emails_df['Polarity'] = emails_df['body'].map(Sentiment_TextBlob)\n",
    "emails_df.head()"
   ]
  },
  {
   "cell_type": "code",
   "execution_count": 21,
   "metadata": {},
   "outputs": [
    {
     "data": {
      "text/plain": [
       "152    increasing limit size hi limit increased becau...\n",
       "153    re create snapshot production dear please user...\n",
       "154    mom intermittent hi guys please highlighted bi...\n",
       "155    reaching out hi guys received seems little sus...\n",
       "156    report requirement hi please rise assign thank...\n",
       "157    communication hello please kind via merge atta...\n",
       "158    hello please advise layout attached example ch...\n",
       "159    re updated hello sorry bother yet currently vi...\n",
       "160    device recovery report printer duplex unit pri...\n",
       "161    low score registration hello please modify sur...\n",
       "Name: body, dtype: object"
      ]
     },
     "execution_count": 21,
     "metadata": {},
     "output_type": "execute_result"
    }
   ],
   "source": [
    "emails_df.iloc[150:160,1]"
   ]
  },
  {
   "cell_type": "code",
   "execution_count": 22,
   "metadata": {},
   "outputs": [],
   "source": [
    "# type(emails_df['Polarity'][1])\n",
    "text111= pd.DataFrame(emails_df[emails_df['compound'] == -0.8227]).iloc[:,1]"
   ]
  },
  {
   "cell_type": "code",
   "execution_count": 23,
   "metadata": {},
   "outputs": [
    {
     "data": {
      "text/plain": [
       "1057"
      ]
     },
     "execution_count": 23,
     "metadata": {},
     "output_type": "execute_result"
    }
   ],
   "source": [
    "len(emails_df[emails_df['compound']<=-0.5])"
   ]
  },
  {
   "cell_type": "code",
   "execution_count": 24,
   "metadata": {},
   "outputs": [
    {
     "data": {
      "text/plain": [
       "36337"
      ]
     },
     "execution_count": 24,
     "metadata": {},
     "output_type": "execute_result"
    }
   ],
   "source": [
    "len(emails_df[emails_df['compound'] >=0.5])"
   ]
  },
  {
   "cell_type": "code",
   "execution_count": 25,
   "metadata": {},
   "outputs": [
    {
     "data": {
      "text/plain": [
       "590"
      ]
     },
     "execution_count": 25,
     "metadata": {},
     "output_type": "execute_result"
    }
   ],
   "source": [
    "len(emails_df[emails_df['Polarity'] <= - 0.3])"
   ]
  },
  {
   "cell_type": "code",
   "execution_count": 26,
   "metadata": {},
   "outputs": [
    {
     "data": {
      "text/plain": [
       "6358"
      ]
     },
     "execution_count": 26,
     "metadata": {},
     "output_type": "execute_result"
    }
   ],
   "source": [
    "len(emails_df[emails_df['Polarity']>= 0.5])"
   ]
  },
  {
   "cell_type": "code",
   "execution_count": 27,
   "metadata": {},
   "outputs": [],
   "source": [
    "# from nltk.sentiment.vader import SentimentIntensityAnalyzer"
   ]
  },
  {
   "cell_type": "code",
   "execution_count": 28,
   "metadata": {},
   "outputs": [],
   "source": [
    "# import nltk\n",
    "# nltk.downloader.download('vader_lexicon')"
   ]
  },
  {
   "cell_type": "code",
   "execution_count": 29,
   "metadata": {},
   "outputs": [],
   "source": [
    "# SIA = SentimentIntensityAnalyzer()\n",
    "# print((SIA.lexicon))"
   ]
  },
  {
   "cell_type": "code",
   "execution_count": null,
   "metadata": {},
   "outputs": [],
   "source": []
  },
  {
   "cell_type": "code",
   "execution_count": 30,
   "metadata": {},
   "outputs": [
    {
     "name": "stdout",
     "output_type": "stream",
     "text": [
      "Original Email\n",
      "______________\n",
      "\n",
      " No my invoice calculation is not correct. \n",
      " \n",
      " Thanks \n",
      " Adam, Adam.  \n",
      " \n",
      "-----Original Message-----  \n",
      "  Dear Adam, I see that your invoice calculation has no mistakes. \n",
      " \n",
      " Best Regards, \n",
      " Customer Support. \n",
      "\n",
      "\n",
      "Sentense split\n",
      "________________\n",
      "\n",
      "\n",
      "['\\n No my invoice calculation is not correct.', 'Thanks \\n Adam, Adam.', '-----Original Message-----  \\n  Dear Adam, I see that your invoice calculation has no mistakes.', 'Best Regards, \\n Customer Support.']\n"
     ]
    },
    {
     "name": "stderr",
     "output_type": "stream",
     "text": [
      "[nltk_data] Downloading package punkt to\n",
      "[nltk_data]     C:\\Users\\mashv\\AppData\\Roaming\\nltk_data...\n",
      "[nltk_data]   Package punkt is already up-to-date!\n"
     ]
    }
   ],
   "source": [
    "import nltk \n",
    "nltk.download('punkt')\n",
    "inputstring = '\\n No my invoice calculation is not correct. \\n \\n Thanks \\n Adam, Adam.  \\n \\n-----Original Message-----  \\n  Dear Adam, I see that your invoice calculation has no mistakes. \\n \\n Best Regards, \\n Customer Support. '\n",
    "from nltk.tokenize import sent_tokenize\n",
    "all_sent = sent_tokenize(inputstring)\n",
    "print(\"Original Email\")\n",
    "print(\"______________\")\n",
    "print(inputstring)\n",
    "print(\"\\n\")\n",
    "print(\"Sentense split\")\n",
    "print(\"________________\\n\\n\")\n",
    "print(all_sent)\n"
   ]
  },
  {
   "cell_type": "code",
   "execution_count": 31,
   "metadata": {},
   "outputs": [
    {
     "name": "stdout",
     "output_type": "stream",
     "text": [
      "Original Email\n",
      "______________\n",
      "\n",
      " No my invoice calculation is not correct. \n",
      " \n",
      " Thanks \n",
      " Adam, Adam.  \n",
      " \n",
      "-----Original Message-----  \n",
      "  Dear Adam, I see that your invoice calculation has no mistakes. \n",
      " \n",
      " Best Regards, \n",
      " Customer Support. \n",
      "\n",
      "\n",
      "Tokanized string\n",
      "________________\n",
      "\n",
      "\n",
      "['No', 'my', 'invoice', 'calculation', 'is', 'not', 'correct', '.', 'Thanks', 'Adam', ',', 'Adam', '.', '--', '--', '-Original', 'Message', '--', '--', '-', 'Dear', 'Adam', ',', 'I', 'see', 'that', 'your', 'invoice', 'calculation', 'has', 'no', 'mistakes', '.', 'Best', 'Regards', ',', 'Customer', 'Support', '.']\n"
     ]
    }
   ],
   "source": [
    "from nltk.tokenize import word_tokenize\n",
    "# text1 = \"It's true that the chicken was the best bamboozler in the known multiverse.\"\n",
    "tokens = word_tokenize(inputstring)\n",
    "print(\"Original Email\")\n",
    "print(\"______________\")\n",
    "print(inputstring)\n",
    "print(\"\\n\")\n",
    "print(\"Tokanized string\")\n",
    "print(\"________________\\n\\n\")\n",
    "print(tokens)"
   ]
  },
  {
   "cell_type": "code",
   "execution_count": 32,
   "metadata": {},
   "outputs": [
    {
     "name": "stdout",
     "output_type": "stream",
     "text": [
      "Original Email\n",
      "______________\n",
      "\n",
      " No my invoice calculation is not correct. \n",
      " \n",
      " Thanks \n",
      " Adam, Adam.  \n",
      " \n",
      "-----Original Message-----  \n",
      "  Dear Adam, I see that your invoice calculation has no mistakes. \n",
      " \n",
      " Best Regards, \n",
      " Customer Support. \n",
      "\n",
      "\n",
      "Stopwords Removed\n",
      "_________________\n",
      "['No', 'invoice', 'calculation', 'correct', '.', 'Thanks', 'Adam', ',', 'Adam', '.', '--', '--', '-Original', 'Message', '--', '--', '-', 'Dear', 'Adam', ',', 'I', 'see', 'invoice', 'calculation', 'mistakes', '.', 'Best', 'Regards', ',', 'Customer', 'Support', '.']\n"
     ]
    }
   ],
   "source": [
    "from nltk.corpus import stopwords \n",
    "from nltk.tokenize import word_tokenize \n",
    "\n",
    "\n",
    "# example_sent = \"This is a sample sentence, showing off the stop words filtration.\"\n",
    "  \n",
    "stop_words = set(stopwords.words('english')) \n",
    "  \n",
    "word_tokens = word_tokenize(inputstring) \n",
    "  \n",
    "filtered_sentence = [w for w in word_tokens if not w in stop_words] \n",
    "  \n",
    "filtered_sentence = [] \n",
    "  \n",
    "for w in word_tokens: \n",
    "    if w not in stop_words: \n",
    "        filtered_sentence.append(w) \n",
    "\n",
    "print(\"Original Email\")\n",
    "print(\"______________\")\n",
    "print(inputstring)\n",
    "print(\"\\n\")\n",
    "print(\"Stopwords Removed\")\n",
    "print(\"_________________\")\n",
    "# print(word_tokens) \n",
    "print(filtered_sentence) "
   ]
  },
  {
   "cell_type": "code",
   "execution_count": 33,
   "metadata": {},
   "outputs": [
    {
     "name": "stdout",
     "output_type": "stream",
     "text": [
      "Stopwords\n",
      "_________\n",
      "\n",
      "\n",
      "['i', 'me', 'my', 'myself', 'we', 'our', 'ours', 'ourselves', 'you', \"you're\", \"you've\", \"you'll\", \"you'd\", 'your', 'yours', 'yourself', 'yourselves', 'he', 'him', 'his'] ...etc.\n"
     ]
    }
   ],
   "source": [
    "import nltk\n",
    "from nltk.corpus import stopwords\n",
    "print(\"Stopwords\")\n",
    "print(\"_________\")\n",
    "print(\"\\n\")\n",
    "print(stopwords.words('english')[0:20],\"...etc.\")"
   ]
  },
  {
   "cell_type": "code",
   "execution_count": 34,
   "metadata": {},
   "outputs": [
    {
     "data": {
      "image/png": "[encoded data removed]",
      "text/plain": [
       "<Figure size 576x576 with 1 Axes>"
      ]
     },
     "metadata": {
      "needs_background": "light"
     },
     "output_type": "display_data"
    }
   ],
   "source": [
    "import wordcloud\n",
    "from wordcloud import WordCloud, STOPWORDS\n",
    "import matplotlib.pyplot as plt\n",
    "\n",
    "\n",
    "#Final word cloud after all the cleaning and pre-processing\n",
    "comment_words = ' '\n",
    "stopwords = stop_words \n",
    "\n",
    "\n",
    "for words in tokens: \n",
    "    comment_words += \" \".join(filtered_sentence)+\" \"\n",
    "\n",
    "\n",
    "wordcloud = WordCloud(width = 800, height = 800, \n",
    "            background_color ='white', \n",
    "            stopwords = stopwords, \n",
    "            min_font_size = 10, max_words= 25,min_word_length=5).generate(str(filtered_sentence)) \n",
    "\n",
    "# plot the WordCloud image                        \n",
    "plt.figure(figsize = (8, 8), facecolor = None) \n",
    "plt.imshow(wordcloud) \n",
    "plt.axis(\"off\") \n",
    "plt.tight_layout(pad = 0) \n",
    "\n",
    "plt.show() "
   ]
  },
  {
   "cell_type": "code",
   "execution_count": null,
   "metadata": {},
   "outputs": [],
   "source": []
  },
  {
   "cell_type": "code",
   "execution_count": null,
   "metadata": {},
   "outputs": [],
   "source": []
  },
  {
   "cell_type": "code",
   "execution_count": null,
   "metadata": {},
   "outputs": [],
   "source": []
  },
  {
   "cell_type": "code",
   "execution_count": null,
   "metadata": {},
   "outputs": [],
   "source": []
  }
 ],
 "metadata": {
  "kernelspec": {
   "display_name": "Python 3",
   "language": "python",
   "name": "python3"
  },
  "language_info": {
   "codemirror_mode": {
    "name": "ipython",
    "version": 3
   },
   "file_extension": ".py",
   "mimetype": "text/x-python",
   "name": "python",
   "nbconvert_exporter": "python",
   "pygments_lexer": "ipython3",
   "version": "3.7.7"
  }
 },
 "nbformat": 4,
 "nbformat_minor": 4
}
